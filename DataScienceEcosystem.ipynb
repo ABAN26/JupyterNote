{
 "cells": [
  {
   "cell_type": "markdown",
   "id": "b5de3b76",
   "metadata": {},
   "source": [
    "# Data Science Tools and Ecosystem\n",
    "\n"
   ]
  },
  {
   "cell_type": "markdown",
   "id": "49fade40",
   "metadata": {},
   "source": [
    " In this notebook, Data Science Tools and Ecosystem are summarized"
   ]
  },
  {
   "cell_type": "markdown",
   "id": "a7ee58e9",
   "metadata": {},
   "source": [
    "**Objectives:**\n",
    " \n",
    "* Languages of Data Science \n",
    "* Libraries for Data Science \n",
    "* Application Programming Interfaces (APIs) \n",
    "* Collaborative Work"
   ]
  },
  {
   "cell_type": "markdown",
   "id": "af4fa13a",
   "metadata": {},
   "source": [
    "## Some of the popular languages that Data Scientists use are:\n",
    "1. Python \n",
    "2. R \n",
    "3. SQL \n",
    "4. NoSQL \n"
   ]
  },
  {
   "cell_type": "markdown",
   "id": "6722016b",
   "metadata": {},
   "source": [
    "\n",
    "## Some of the commonly used libraries used by Data Scientists include|\n",
    "  1. Pandas\n",
    "  2. ggplot\n",
    "  3. Scikit-learn\n",
    "  4. Numpy"
   ]
  },
  {
   "cell_type": "markdown",
   "id": "b76dd47c",
   "metadata": {},
   "source": [
    " Exercise 6\n",
    " \n",
    " |Data Science Tools|\n",
    " -------------------------------\n",
    " |Jupyter Notebook |\n",
    " |Rstudio|\n",
    " |Anaconda|\n"
   ]
  },
  {
   "cell_type": "markdown",
   "id": "5d3e079d",
   "metadata": {},
   "source": [
    "### Below are a few examples of evaluating arithmetic expressions in Python"
   ]
  },
  {
   "cell_type": "markdown",
   "id": "bbcaddc1",
   "metadata": {},
   "source": [
    "(3*4)+5\n",
    "###### This a simple arithmetic expression to mutiply then add integers "
   ]
  },
  {
   "cell_type": "code",
   "execution_count": 5,
   "id": "d698fe08",
   "metadata": {},
   "outputs": [
    {
     "data": {
      "text/plain": [
       "17"
      ]
     },
     "execution_count": 5,
     "metadata": {},
     "output_type": "execute_result"
    }
   ],
   "source": [
    "(3*4)+5"
   ]
  },
  {
   "cell_type": "markdown",
   "id": "92675f77",
   "metadata": {},
   "source": [
    "This will convert 200 minutes to hours by diving by 60 "
   ]
  },
  {
   "cell_type": "code",
   "execution_count": 6,
   "id": "a60100c4",
   "metadata": {
    "scrolled": true
   },
   "outputs": [
    {
     "data": {
      "text/plain": [
       "3.3333333333333335"
      ]
     },
     "execution_count": 6,
     "metadata": {},
     "output_type": "execute_result"
    }
   ],
   "source": [
    "200/60"
   ]
  },
  {
   "cell_type": "markdown",
   "id": "1d710e00",
   "metadata": {},
   "source": [
    "## Author: "
   ]
  },
  {
   "cell_type": "markdown",
   "id": "723cc11f",
   "metadata": {},
   "source": [
    "Ainara Belen Andreoli"
   ]
  }
 ],
 "metadata": {
  "kernelspec": {
   "display_name": "Python 3 (ipykernel)",
   "language": "python",
   "name": "python3"
  },
  "language_info": {
   "codemirror_mode": {
    "name": "ipython",
    "version": 3
   },
   "file_extension": ".py",
   "mimetype": "text/x-python",
   "name": "python",
   "nbconvert_exporter": "python",
   "pygments_lexer": "ipython3",
   "version": "3.11.4"
  }
 },
 "nbformat": 4,
 "nbformat_minor": 5
}
